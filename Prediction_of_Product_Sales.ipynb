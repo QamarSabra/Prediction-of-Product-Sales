{
  "nbformat": 4,
  "nbformat_minor": 0,
  "metadata": {
    "colab": {
      "provenance": [],
      "authorship_tag": "ABX9TyMlbDJselccB6wvCn+24nr5",
      "include_colab_link": true
    },
    "kernelspec": {
      "name": "python3",
      "display_name": "Python 3"
    },
    "language_info": {
      "name": "python"
    }
  },
  "cells": [
    {
      "cell_type": "markdown",
      "metadata": {
        "id": "view-in-github",
        "colab_type": "text"
      },
      "source": [
        "<a href=\"https://colab.research.google.com/github/QamarSabra/Prediction-of-Product-Sales/blob/main/Prediction_of_Product_Sales.ipynb\" target=\"_parent\"><img src=\"https://colab.research.google.com/assets/colab-badge.svg\" alt=\"Open In Colab\"/></a>"
      ]
    },
    {
      "cell_type": "markdown",
      "source": [
        "# Prediction of Product Sales\n",
        "- Author: Qamar"
      ],
      "metadata": {
        "id": "yn8_k4Xpx4uQ"
      }
    },
    {
      "cell_type": "markdown",
      "source": [
        "## Project Overview"
      ],
      "metadata": {
        "id": "6buchbb4yunC"
      }
    },
    {
      "cell_type": "code",
      "source": [],
      "metadata": {
        "id": "wHRoRb29yzlg"
      },
      "execution_count": null,
      "outputs": []
    },
    {
      "cell_type": "markdown",
      "source": [
        "## Load and Inspect Data"
      ],
      "metadata": {
        "id": "hAC384foy0iM"
      }
    },
    {
      "cell_type": "code",
      "source": [],
      "metadata": {
        "id": "l7lKayeYy6MN"
      },
      "execution_count": null,
      "outputs": []
    },
    {
      "cell_type": "markdown",
      "source": [
        "## Clean Data"
      ],
      "metadata": {
        "id": "ha8NfBzoy7Fc"
      }
    },
    {
      "cell_type": "code",
      "source": [],
      "metadata": {
        "id": "B6WM65lwzCan"
      },
      "execution_count": null,
      "outputs": []
    },
    {
      "cell_type": "markdown",
      "source": [
        "## Exploratory Data Analysis"
      ],
      "metadata": {
        "id": "7wjYHMMjzC4U"
      }
    },
    {
      "cell_type": "code",
      "source": [],
      "metadata": {
        "id": "yt1ruhfLzLLV"
      },
      "execution_count": null,
      "outputs": []
    },
    {
      "cell_type": "markdown",
      "source": [
        "## Feature Inspection"
      ],
      "metadata": {
        "id": "2Z2GnCadzLlY"
      }
    },
    {
      "cell_type": "code",
      "source": [],
      "metadata": {
        "id": "Vh-hm7CNzjTU"
      },
      "execution_count": null,
      "outputs": []
    }
  ]
}